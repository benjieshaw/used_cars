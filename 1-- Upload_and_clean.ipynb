{
 "cells": [
  {
   "cell_type": "markdown",
   "id": "fc0336be-411f-44fa-a82c-41086eb6323e",
   "metadata": {},
   "source": [
    "# Load Packages"
   ]
  },
  {
   "cell_type": "code",
   "execution_count": 1,
   "id": "dbea93ef-8a85-4038-b305-ec5037d9b553",
   "metadata": {},
   "outputs": [],
   "source": [
    "import pandas as pd\n",
    "import matplotlib.pyplot as plt\n",
    "import seaborn as sns"
   ]
  },
  {
   "cell_type": "markdown",
   "id": "26783229-3b81-40d6-ad7e-361132566f46",
   "metadata": {},
   "source": [
    "# Load Data"
   ]
  },
  {
   "cell_type": "code",
   "execution_count": 2,
   "id": "ad5a304f-f99c-4dba-bdd3-468658ac55a6",
   "metadata": {},
   "outputs": [],
   "source": [
    "cars = pd.read_csv('used_cars_cleaned.csv')"
   ]
  },
  {
   "cell_type": "code",
   "execution_count": 3,
   "id": "25a59376-c157-44e4-a281-d14aff1eb9d5",
   "metadata": {},
   "outputs": [
    {
     "data": {
      "text/html": [
       "<div>\n",
       "<style scoped>\n",
       "    .dataframe tbody tr th:only-of-type {\n",
       "        vertical-align: middle;\n",
       "    }\n",
       "\n",
       "    .dataframe tbody tr th {\n",
       "        vertical-align: top;\n",
       "    }\n",
       "\n",
       "    .dataframe thead th {\n",
       "        text-align: right;\n",
       "    }\n",
       "</style>\n",
       "<table border=\"1\" class=\"dataframe\">\n",
       "  <thead>\n",
       "    <tr style=\"text-align: right;\">\n",
       "      <th></th>\n",
       "      <th>brand</th>\n",
       "      <th>base_model</th>\n",
       "      <th>trim</th>\n",
       "      <th>model_year</th>\n",
       "      <th>mileage</th>\n",
       "      <th>engine_type</th>\n",
       "      <th>fuel_type</th>\n",
       "      <th>horsepower</th>\n",
       "      <th>engine_size</th>\n",
       "      <th>ext_col</th>\n",
       "      <th>transmission_type</th>\n",
       "      <th>number_of_speeds</th>\n",
       "      <th>dual_shift_mode</th>\n",
       "      <th>int_col</th>\n",
       "      <th>accident_damage_reported</th>\n",
       "      <th>clean_title</th>\n",
       "      <th>price</th>\n",
       "    </tr>\n",
       "  </thead>\n",
       "  <tbody>\n",
       "    <tr>\n",
       "      <th>0</th>\n",
       "      <td>Ford</td>\n",
       "      <td>Utility Police</td>\n",
       "      <td>Interceptor Base</td>\n",
       "      <td>2013</td>\n",
       "      <td>51000</td>\n",
       "      <td>V6 Cylinder Engine</td>\n",
       "      <td>Flex Fuel Capability</td>\n",
       "      <td>300</td>\n",
       "      <td>3.7</td>\n",
       "      <td>Black</td>\n",
       "      <td>A/T</td>\n",
       "      <td>6</td>\n",
       "      <td>0</td>\n",
       "      <td>Black</td>\n",
       "      <td>1</td>\n",
       "      <td>1</td>\n",
       "      <td>10300</td>\n",
       "    </tr>\n",
       "    <tr>\n",
       "      <th>1</th>\n",
       "      <td>INFINITI</td>\n",
       "      <td>Q50 Hybrid</td>\n",
       "      <td>Sport</td>\n",
       "      <td>2015</td>\n",
       "      <td>88900</td>\n",
       "      <td>V6 Cylinder Engine</td>\n",
       "      <td>Gas/Electric Hybrid</td>\n",
       "      <td>354</td>\n",
       "      <td>3.5</td>\n",
       "      <td>Black</td>\n",
       "      <td>A/T</td>\n",
       "      <td>7</td>\n",
       "      <td>0</td>\n",
       "      <td>Black</td>\n",
       "      <td>0</td>\n",
       "      <td>1</td>\n",
       "      <td>15500</td>\n",
       "    </tr>\n",
       "    <tr>\n",
       "      <th>2</th>\n",
       "      <td>Audi</td>\n",
       "      <td>S3 2</td>\n",
       "      <td>.0T Premium Plus</td>\n",
       "      <td>2017</td>\n",
       "      <td>84000</td>\n",
       "      <td>4 Cylinder Engine</td>\n",
       "      <td>Gasoline Fuel</td>\n",
       "      <td>292</td>\n",
       "      <td>2.0</td>\n",
       "      <td>Blue</td>\n",
       "      <td>A/T</td>\n",
       "      <td>6</td>\n",
       "      <td>0</td>\n",
       "      <td>Black</td>\n",
       "      <td>0</td>\n",
       "      <td>1</td>\n",
       "      <td>31000</td>\n",
       "    </tr>\n",
       "    <tr>\n",
       "      <th>3</th>\n",
       "      <td>BMW</td>\n",
       "      <td>740 Il</td>\n",
       "      <td>NaN</td>\n",
       "      <td>2001</td>\n",
       "      <td>242000</td>\n",
       "      <td>8 Cylinder Engine</td>\n",
       "      <td>Gasoline Fuel</td>\n",
       "      <td>282</td>\n",
       "      <td>4.4</td>\n",
       "      <td>Green</td>\n",
       "      <td>A/T</td>\n",
       "      <td>Unknown</td>\n",
       "      <td>0</td>\n",
       "      <td>Green</td>\n",
       "      <td>0</td>\n",
       "      <td>1</td>\n",
       "      <td>7300</td>\n",
       "    </tr>\n",
       "    <tr>\n",
       "      <th>4</th>\n",
       "      <td>Lexus</td>\n",
       "      <td>Rc 350</td>\n",
       "      <td>F Sport</td>\n",
       "      <td>2021</td>\n",
       "      <td>23436</td>\n",
       "      <td>V6 Cylinder Engine</td>\n",
       "      <td>Gasoline Fuel</td>\n",
       "      <td>311</td>\n",
       "      <td>3.5</td>\n",
       "      <td>Black</td>\n",
       "      <td>A/T</td>\n",
       "      <td>6</td>\n",
       "      <td>0</td>\n",
       "      <td>Black</td>\n",
       "      <td>0</td>\n",
       "      <td>1</td>\n",
       "      <td>41927</td>\n",
       "    </tr>\n",
       "  </tbody>\n",
       "</table>\n",
       "</div>"
      ],
      "text/plain": [
       "      brand      base_model              trim  model_year  mileage  \\\n",
       "0      Ford  Utility Police  Interceptor Base        2013    51000   \n",
       "1  INFINITI      Q50 Hybrid             Sport        2015    88900   \n",
       "2      Audi            S3 2  .0T Premium Plus        2017    84000   \n",
       "3       BMW          740 Il               NaN        2001   242000   \n",
       "4     Lexus          Rc 350           F Sport        2021    23436   \n",
       "\n",
       "          engine_type             fuel_type  horsepower  engine_size ext_col  \\\n",
       "0  V6 Cylinder Engine  Flex Fuel Capability         300          3.7   Black   \n",
       "1  V6 Cylinder Engine   Gas/Electric Hybrid         354          3.5   Black   \n",
       "2   4 Cylinder Engine         Gasoline Fuel         292          2.0    Blue   \n",
       "3   8 Cylinder Engine         Gasoline Fuel         282          4.4   Green   \n",
       "4  V6 Cylinder Engine         Gasoline Fuel         311          3.5   Black   \n",
       "\n",
       "  transmission_type number_of_speeds  dual_shift_mode int_col  \\\n",
       "0               A/T                6                0   Black   \n",
       "1               A/T                7                0   Black   \n",
       "2               A/T                6                0   Black   \n",
       "3               A/T          Unknown                0   Green   \n",
       "4               A/T                6                0   Black   \n",
       "\n",
       "  accident_damage_reported clean_title  price  \n",
       "0                        1           1  10300  \n",
       "1                        0           1  15500  \n",
       "2                        0           1  31000  \n",
       "3                        0           1   7300  \n",
       "4                        0           1  41927  "
      ]
     },
     "execution_count": 3,
     "metadata": {},
     "output_type": "execute_result"
    }
   ],
   "source": [
    "cars.head()"
   ]
  },
  {
   "cell_type": "code",
   "execution_count": 5,
   "id": "5324124e-a943-400a-a7f6-bbec1fd6b228",
   "metadata": {
    "scrolled": true
   },
   "outputs": [
    {
     "data": {
      "text/plain": [
       "brand                        object\n",
       "base_model                   object\n",
       "trim                         object\n",
       "model_year                    int64\n",
       "mileage                       int64\n",
       "engine_type                  object\n",
       "fuel_type                    object\n",
       "horsepower                    int64\n",
       "engine_size                 float64\n",
       "ext_col                      object\n",
       "transmission_type            object\n",
       "number_of_speeds             object\n",
       "dual_shift_mode               int64\n",
       "int_col                      object\n",
       "accident_damage_reported     object\n",
       "clean_title                  object\n",
       "price                         int64\n",
       "dtype: object"
      ]
     },
     "execution_count": 5,
     "metadata": {},
     "output_type": "execute_result"
    }
   ],
   "source": [
    "cars.dtypes"
   ]
  },
  {
   "cell_type": "code",
   "execution_count": null,
   "id": "5976d51a-c793-454e-b5b6-1bbcc70adfb3",
   "metadata": {},
   "outputs": [],
   "source": [
    "cats = cars['brand', "
   ]
  }
 ],
 "metadata": {
  "kernelspec": {
   "display_name": "Python 3 (ipykernel)",
   "language": "python",
   "name": "python3"
  },
  "language_info": {
   "codemirror_mode": {
    "name": "ipython",
    "version": 3
   },
   "file_extension": ".py",
   "mimetype": "text/x-python",
   "name": "python",
   "nbconvert_exporter": "python",
   "pygments_lexer": "ipython3",
   "version": "3.12.7"
  }
 },
 "nbformat": 4,
 "nbformat_minor": 5
}
