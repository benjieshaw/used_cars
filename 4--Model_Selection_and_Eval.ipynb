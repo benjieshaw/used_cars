{
 "cells": [
  {
   "cell_type": "code",
   "execution_count": 81,
   "id": "ca4d7e8b-40cf-45b2-8208-38d0a65d1d66",
   "metadata": {},
   "outputs": [],
   "source": [
    "import pandas as pd\n",
    "from sklearn.model_selection import train_test_split, GridSearchCV\n",
    "from sklearn.linear_model import LinearRegression, Lasso, ElasticNet\n",
    "from sklearn.ensemble import GradientBoostingRegressor, AdaBoostClassifier\n",
    "from sklearn import svm\n",
    "from sklearn.metrics import mean_squared_error, r2_score, root_mean_squared_error\n",
    "import matplotlib.pyplot as plt\n",
    "from xgboost import XGBRegressor\n",
    "from catboost import CatBoostRegressor\n",
    "import pickle"
   ]
  },
  {
   "cell_type": "code",
   "execution_count": 6,
   "id": "8e301b57-5d1f-42ac-93ea-f753ebb88d67",
   "metadata": {},
   "outputs": [],
   "source": [
    "selected_features = pd.read_csv('selected_features.csv')"
   ]
  },
  {
   "cell_type": "markdown",
   "id": "97ab5e18-a5cb-47c0-9e72-18fdf060f309",
   "metadata": {},
   "source": [
    "## Split Dataset and Fit to Models"
   ]
  },
  {
   "cell_type": "code",
   "execution_count": 7,
   "id": "a1e04d76-818c-456d-b359-bb5e623e3323",
   "metadata": {},
   "outputs": [],
   "source": [
    "#Define features and targets\n",
    "X = selected_features.drop(columns='price')\n",
    "y = selected_features['price']"
   ]
  },
  {
   "cell_type": "code",
   "execution_count": 8,
   "id": "bdf13b54-9064-422e-aed8-6439b9cd1c78",
   "metadata": {},
   "outputs": [],
   "source": [
    "#train_test_split\n",
    "X_train, X_test, y_train, y_test = train_test_split(X, y, test_size=.2, random_state=42)"
   ]
  },
  {
   "cell_type": "markdown",
   "id": "72df95dd-ffe2-4625-94c0-14d89bd616f1",
   "metadata": {},
   "source": [
    "## Model Fitting"
   ]
  },
  {
   "cell_type": "markdown",
   "id": "616afd67-8a0f-42a1-808c-faf56d0ff9fc",
   "metadata": {},
   "source": [
    "A variety of models will be fit and evaluated with MSE and R2 scores to determine the best fitting model. After model selection, cross grid search will be utilized to tune hyperparameters.\n",
    "\n",
    "The models that will be used are:\n",
    "\n",
    "•Linear Regression\n",
    "\n",
    "•Lasso Regression\n",
    "\n",
    "•ElasticNet Regression\n",
    "\n",
    "•Gradient Boosting Regressor\n",
    "\n",
    "•Ada Boost Classifier\n",
    "\n",
    "•Support Vector Machine"
   ]
  },
  {
   "cell_type": "markdown",
   "id": "fbeae655-f132-412a-b537-a607a074f282",
   "metadata": {},
   "source": [
    "### Linear Regression"
   ]
  },
  {
   "cell_type": "code",
   "execution_count": 20,
   "id": "984f44f3-449f-4b9a-adbe-1245dbe6a010",
   "metadata": {},
   "outputs": [
    {
     "name": "stdout",
     "output_type": "stream",
     "text": [
      "Linear -- Mean Squared Error: 4093202223.5091\n",
      "Linear -- R2 Score: 0.2484\n"
     ]
    }
   ],
   "source": [
    "#Instantiate the model\n",
    "linear = LinearRegression()\n",
    "\n",
    "#Fit data to the model\n",
    "linear.fit(X_train, y_train)\n",
    "\n",
    "#Predict and evaluate\n",
    "linear_y_pred = linear.predict(X_test)\n",
    "mse_linear = mean_squared_error(y_test, linear_y_pred).round(4)\n",
    "r2_linear = round(r2_score(y_test, linear_y_pred), 4)\n",
    "\n",
    "#Print the metrics\n",
    "print(\"Linear -- Mean Squared Error:\", mse_linear)\n",
    "print(\"Linear -- R2 Score:\", r2_linear)"
   ]
  },
  {
   "cell_type": "markdown",
   "id": "772d44aa-f02b-477d-a360-434fb284f056",
   "metadata": {},
   "source": [
    "### Lasso Regression"
   ]
  },
  {
   "cell_type": "code",
   "execution_count": 18,
   "id": "624eeb30-02c6-4648-84b5-1a1221335188",
   "metadata": {},
   "outputs": [
    {
     "name": "stdout",
     "output_type": "stream",
     "text": [
      "Lasso -- Mean Squared Error: 4093467331.3946\n",
      "Lasso -- R2 Score: 0.2484\n"
     ]
    }
   ],
   "source": [
    "#Instantiate the model\n",
    "lasso = Lasso(max_iter=5000)\n",
    "\n",
    "#Fit data to the model\n",
    "lasso.fit(X_train, y_train)\n",
    "\n",
    "#Predict and evaluate\n",
    "lasso_y_pred = lasso.predict(X_test)\n",
    "mse_lasso = mean_squared_error(y_test, lasso_y_pred).round(4)\n",
    "r2_lasso = round(r2_score(y_test, lasso_y_pred), 4)\n",
    "\n",
    "#Print the metrics\n",
    "print(\"Lasso -- Mean Squared Error:\", mse_lasso)\n",
    "print(\"Lasso -- R2 Score:\", r2_lasso)"
   ]
  },
  {
   "cell_type": "markdown",
   "id": "48a7c2e1-f13d-48ca-85a9-ba3cef94ec6e",
   "metadata": {},
   "source": [
    "### Elastic Net Regression"
   ]
  },
  {
   "cell_type": "code",
   "execution_count": 22,
   "id": "87372a08-e1de-41bd-a9ee-ce9ea4839c2d",
   "metadata": {},
   "outputs": [
    {
     "name": "stdout",
     "output_type": "stream",
     "text": [
      "Elastic Net -- Mean Squared Error: 4568223394.3242\n",
      "Elastic Net -- R2 Score: 0.1612\n"
     ]
    }
   ],
   "source": [
    "#Instantiate the model\n",
    "elastic = ElasticNet()\n",
    "\n",
    "#Fit data to the model\n",
    "elastic.fit(X_train, y_train)\n",
    "\n",
    "#Predict and evaluate\n",
    "elastic_y_pred = elastic.predict(X_test)\n",
    "mse_elastic = mean_squared_error(y_test, elastic_y_pred).round(4)\n",
    "r2_elastic = round(r2_score(y_test, elastic_y_pred), 4)\n",
    "\n",
    "#Print the metrics\n",
    "print(\"Elastic Net -- Mean Squared Error:\", mse_elastic)\n",
    "print(\"Elastic Net -- R2 Score:\", r2_elastic)"
   ]
  },
  {
   "cell_type": "markdown",
   "id": "db318b7b-153a-49fc-b8c3-5d3f78a05e62",
   "metadata": {},
   "source": [
    "### Gradient Boosting Regressor"
   ]
  },
  {
   "cell_type": "code",
   "execution_count": 23,
   "id": "53488c21-5c85-4d21-9699-271158a0d85e",
   "metadata": {},
   "outputs": [
    {
     "name": "stdout",
     "output_type": "stream",
     "text": [
      "GBR -- Mean Squared Error: 3009677972.0386\n",
      "GBR -- R2 Score: 0.4474\n"
     ]
    }
   ],
   "source": [
    "#Instantiate the model\n",
    "GBR = GradientBoostingRegressor()\n",
    "\n",
    "#Fit data to the model\n",
    "GBR.fit(X_train, y_train)\n",
    "\n",
    "#Predict and evaluate\n",
    "gbr_y_pred = GBR.predict(X_test)\n",
    "mse_gbr = mean_squared_error(y_test, gbr_y_pred).round(4)\n",
    "r2_gbr = round(r2_score(y_test, gbr_y_pred), 4)\n",
    "\n",
    "#Evaluate the metrics\n",
    "print(\"GBR -- Mean Squared Error:\", mse_gbr)\n",
    "print(\"GBR -- R2 Score:\", r2_gbr)"
   ]
  },
  {
   "cell_type": "markdown",
   "id": "d89becb5-5b69-4fff-b8ae-47f722ef7baa",
   "metadata": {},
   "source": [
    "### Ada Boost Classifier"
   ]
  },
  {
   "cell_type": "code",
   "execution_count": 25,
   "id": "1d14de95-90ff-4be7-acfc-92dba3338b78",
   "metadata": {},
   "outputs": [
    {
     "name": "stdout",
     "output_type": "stream",
     "text": [
      "Ada -- Mean Squared Error: 5080655570.4103\n",
      "Ada -- R2 Score: 0.0671\n"
     ]
    }
   ],
   "source": [
    "#Instantiate the model\n",
    "ada = AdaBoostClassifier(algorithm = 'SAMME', random_state=42)\n",
    "\n",
    "#Fit data to the model\n",
    "ada.fit(X_train, y_train)\n",
    "\n",
    "#Predict and evaluate\n",
    "ada_y_pred = ada.predict(X_test)\n",
    "mse_ada = mean_squared_error(y_test, ada_y_pred).round(4)\n",
    "r2_ada = round(r2_score(y_test, ada_y_pred), 4)\n",
    "\n",
    "#Evaluate the metrics\n",
    "print(\"Ada -- Mean Squared Error:\", mse_ada)\n",
    "print(\"Ada -- R2 Score:\", r2_ada)"
   ]
  },
  {
   "cell_type": "markdown",
   "id": "71e19b63-5fe0-41ed-bfd2-03e8aaecfa03",
   "metadata": {},
   "source": [
    "### Support Vector Machine"
   ]
  },
  {
   "cell_type": "code",
   "execution_count": 26,
   "id": "d55e6fe9-fb0a-4d37-af59-e606c25bccdd",
   "metadata": {},
   "outputs": [
    {
     "name": "stdout",
     "output_type": "stream",
     "text": [
      "SVM -- Mean Squared Error: 6014036865.2621\n",
      "SVM -- R2 Score: -0.1043\n"
     ]
    }
   ],
   "source": [
    "#Instantiate the model\n",
    "svm = svm.SVC()\n",
    "\n",
    "#fit data to the model\n",
    "svm.fit(X_train, y_train)\n",
    "\n",
    "#Predict and evaluate\n",
    "svm_y_pred = svm.predict(X_test)\n",
    "mse_svm = mean_squared_error(y_test, svm_y_pred).round(4)\n",
    "r2_svm = round(r2_score(y_test, svm_y_pred), 4)\n",
    "\n",
    "#Print the results\n",
    "print(\"SVM -- Mean Squared Error:\", mse_svm)\n",
    "print(\"SVM -- R2 Score:\", r2_svm)"
   ]
  },
  {
   "cell_type": "markdown",
   "id": "a0633b4c-a1eb-4d33-9cf4-7f9ff4bf58f6",
   "metadata": {},
   "source": [
    "## Visualize the results"
   ]
  },
  {
   "cell_type": "code",
   "execution_count": 33,
   "id": "5f187a0a-58fb-4f5e-94e4-cba7f70ee39b",
   "metadata": {
    "scrolled": true
   },
   "outputs": [
    {
     "data": {
      "image/png": "[encoded data removed]",
      "text/plain": [
       "<Figure size 640x480 with 1 Axes>"
      ]
     },
     "metadata": {},
     "output_type": "display_data"
    }
   ],
   "source": [
    "mse_scores = [mse_linear, mse_lasso, mse_elastic, mse_gbr, mse_ada, mse_svm]\n",
    "r2_scores = [r2_linear, r2_lasso, r2_elastic, r2_gbr, r2_ada, r2_svm]\n",
    "labels = [\"Linear\", \"Lasso\", \"ElasticNet\", \"GBR\", \"Ada\", \"SVM\"]\n",
    "\n",
    "figsize=(12,6)\n",
    "plt.scatter(r2_scores, mse_scores)\n",
    "#Add labels\n",
    "for i in range(len(mse_scores)):\n",
    "    plt.text(r2_scores[i], mse_scores[i], labels[i])\n",
    "\n",
    "plt.title(\"MSE vs R2 scores\")\n",
    "plt.xlabel(\"MSE\")\n",
    "plt.ylabel(\"R2\")\n",
    "plt.show()"
   ]
  },
  {
   "cell_type": "markdown",
   "id": "20c1560c-9c8a-4b12-973b-4934eaf00277",
   "metadata": {},
   "source": [
    "## Hyperparameter Tuning"
   ]
  },
  {
   "cell_type": "code",
   "execution_count": 59,
   "id": "46ea8b1c-4624-4801-b452-93f66983f252",
   "metadata": {},
   "outputs": [
    {
     "name": "stdout",
     "output_type": "stream",
     "text": [
      "Fitting 5 folds for each of 81 candidates, totalling 405 fits\n",
      "Best paramaters: {'ccp_alpha': 1, 'learning_rate': 1, 'max_depth': 3, 'n_estimators': 50}\n",
      "Best MSE score: -3691289561.56316\n"
     ]
    },
    {
     "name": "stderr",
     "output_type": "stream",
     "text": [
      "/opt/anaconda3/lib/python3.12/site-packages/sklearn/model_selection/_search.py:1113: RuntimeWarning: overflow encountered in square\n",
      "  (array - array_means[:, np.newaxis]) ** 2, axis=1, weights=weights\n"
     ]
    }
   ],
   "source": [
    "#Define dictionary with possible hyperparameters:\n",
    "params = {\n",
    "    'learning_rate': [0.1, 1, 3],\n",
    "    'n_estimators': [50, 100, 250],\n",
    "    'max_depth': [1, 3, 10],\n",
    "    'ccp_alpha': [0, 0.5, 1]}\n",
    "\n",
    "#Perform GridSearch\n",
    "grid_search = GridSearchCV(\n",
    "    estimator = GBR,\n",
    "    param_grid = params,\n",
    "    scoring = 'neg_mean_squared_error',\n",
    "    n_jobs = -1, \n",
    "    cv = 5,\n",
    "    verbose = 1)\n",
    "\n",
    "grid_search.fit(X_train, y_train)\n",
    "\n",
    "print(\"Best paramaters:\", grid_search.best_params_)\n",
    "print(\"Best MSE score:\", grid_search.best_score_)\n",
    "\n",
    "best_model = grid_search.best_estimator_\n",
    "    "
   ]
  },
  {
   "cell_type": "code",
   "execution_count": 62,
   "id": "897cd9b9-b09c-4473-96ca-7920353006c7",
   "metadata": {},
   "outputs": [
    {
     "name": "stdout",
     "output_type": "stream",
     "text": [
      "Fitting 5 folds for each of 81 candidates, totalling 405 fits\n",
      "Best paramaters: {'ccp_alpha': 3, 'learning_rate': 1, 'max_depth': 3, 'n_estimators': 25}\n",
      "Best MSE score: -3692701549.234646\n"
     ]
    }
   ],
   "source": [
    "#Further fine-tuning\n",
    "new_params = {\n",
    "    'learning_rate': [.7, 1, 1.5],\n",
    "    'n_estimators': [25, 50, 75],\n",
    "    'max_depth': [2, 3, 5],\n",
    "    'ccp_alpha': [1, 1.5, 3]}\n",
    "\n",
    "#Perform GridSearch\n",
    "new_grid_search = GridSearchCV(\n",
    "    estimator = GBR,\n",
    "    param_grid = new_params,\n",
    "    scoring = \"neg_mean_squared_error\",\n",
    "    n_jobs = -1,\n",
    "    cv = 5,\n",
    "    verbose = 1)\n",
    "\n",
    "new_grid_search.fit(X_train, y_train)\n",
    "\n",
    "print(\"Best paramaters:\", new_grid_search.best_params_)\n",
    "print(\"Best MSE score:\", new_grid_search.best_score_)\n",
    "\n",
    "best_model = new_grid_search.best_estimator_"
   ]
  },
  {
   "cell_type": "code",
   "execution_count": 64,
   "id": "9cc1b8f7-629a-4d16-9a35-e7b2f7baa44c",
   "metadata": {},
   "outputs": [
    {
     "data": {
      "text/html": [
       "<style>#sk-container-id-1 {\n",
       "  /* Definition of color scheme common for light and dark mode */\n",
       "  --sklearn-color-text: black;\n",
       "  --sklearn-color-line: gray;\n",
       "  /* Definition of color scheme for unfitted estimators */\n",
       "  --sklearn-color-unfitted-level-0: #fff5e6;\n",
       "  --sklearn-color-unfitted-level-1: #f6e4d2;\n",
       "  --sklearn-color-unfitted-level-2: #ffe0b3;\n",
       "  --sklearn-color-unfitted-level-3: chocolate;\n",
       "  /* Definition of color scheme for fitted estimators */\n",
       "  --sklearn-color-fitted-level-0: #f0f8ff;\n",
       "  --sklearn-color-fitted-level-1: #d4ebff;\n",
       "  --sklearn-color-fitted-level-2: #b3dbfd;\n",
       "  --sklearn-color-fitted-level-3: cornflowerblue;\n",
       "\n",
       "  /* Specific color for light theme */\n",
       "  --sklearn-color-text-on-default-background: var(--sg-text-color, var(--theme-code-foreground, var(--jp-content-font-color1, black)));\n",
       "  --sklearn-color-background: var(--sg-background-color, var(--theme-background, var(--jp-layout-color0, white)));\n",
       "  --sklearn-color-border-box: var(--sg-text-color, var(--theme-code-foreground, var(--jp-content-font-color1, black)));\n",
       "  --sklearn-color-icon: #696969;\n",
       "\n",
       "  @media (prefers-color-scheme: dark) {\n",
       "    /* Redefinition of color scheme for dark theme */\n",
       "    --sklearn-color-text-on-default-background: var(--sg-text-color, var(--theme-code-foreground, var(--jp-content-font-color1, white)));\n",
       "    --sklearn-color-background: var(--sg-background-color, var(--theme-background, var(--jp-layout-color0, #111)));\n",
       "    --sklearn-color-border-box: var(--sg-text-color, var(--theme-code-foreground, var(--jp-content-font-color1, white)));\n",
       "    --sklearn-color-icon: #878787;\n",
       "  }\n",
       "}\n",
       "\n",
       "#sk-container-id-1 {\n",
       "  color: var(--sklearn-color-text);\n",
       "}\n",
       "\n",
       "#sk-container-id-1 pre {\n",
       "  padding: 0;\n",
       "}\n",
       "\n",
       "#sk-container-id-1 input.sk-hidden--visually {\n",
       "  border: 0;\n",
       "  clip: rect(1px 1px 1px 1px);\n",
       "  clip: rect(1px, 1px, 1px, 1px);\n",
       "  height: 1px;\n",
       "  margin: -1px;\n",
       "  overflow: hidden;\n",
       "  padding: 0;\n",
       "  position: absolute;\n",
       "  width: 1px;\n",
       "}\n",
       "\n",
       "#sk-container-id-1 div.sk-dashed-wrapped {\n",
       "  border: 1px dashed var(--sklearn-color-line);\n",
       "  margin: 0 0.4em 0.5em 0.4em;\n",
       "  box-sizing: border-box;\n",
       "  padding-bottom: 0.4em;\n",
       "  background-color: var(--sklearn-color-background);\n",
       "}\n",
       "\n",
       "#sk-container-id-1 div.sk-container {\n",
       "  /* jupyter's `normalize.less` sets `[hidden] { display: none; }`\n",
       "     but bootstrap.min.css set `[hidden] { display: none !important; }`\n",
       "     so we also need the `!important` here to be able to override the\n",
       "     default hidden behavior on the sphinx rendered scikit-learn.org.\n",
       "     See: https://github.com/scikit-learn/scikit-learn/issues/21755 */\n",
       "  display: inline-block !important;\n",
       "  position: relative;\n",
       "}\n",
       "\n",
       "#sk-container-id-1 div.sk-text-repr-fallback {\n",
       "  display: none;\n",
       "}\n",
       "\n",
       "div.sk-parallel-item,\n",
       "div.sk-serial,\n",
       "div.sk-item {\n",
       "  /* draw centered vertical line to link estimators */\n",
       "  background-image: linear-gradient(var(--sklearn-color-text-on-default-background), var(--sklearn-color-text-on-default-background));\n",
       "  background-size: 2px 100%;\n",
       "  background-repeat: no-repeat;\n",
       "  background-position: center center;\n",
       "}\n",
       "\n",
       "/* Parallel-specific style estimator block */\n",
       "\n",
       "#sk-container-id-1 div.sk-parallel-item::after {\n",
       "  content: \"\";\n",
       "  width: 100%;\n",
       "  border-bottom: 2px solid var(--sklearn-color-text-on-default-background);\n",
       "  flex-grow: 1;\n",
       "}\n",
       "\n",
       "#sk-container-id-1 div.sk-parallel {\n",
       "  display: flex;\n",
       "  align-items: stretch;\n",
       "  justify-content: center;\n",
       "  background-color: var(--sklearn-color-background);\n",
       "  position: relative;\n",
       "}\n",
       "\n",
       "#sk-container-id-1 div.sk-parallel-item {\n",
       "  display: flex;\n",
       "  flex-direction: column;\n",
       "}\n",
       "\n",
       "#sk-container-id-1 div.sk-parallel-item:first-child::after {\n",
       "  align-self: flex-end;\n",
       "  width: 50%;\n",
       "}\n",
       "\n",
       "#sk-container-id-1 div.sk-parallel-item:last-child::after {\n",
       "  align-self: flex-start;\n",
       "  width: 50%;\n",
       "}\n",
       "\n",
       "#sk-container-id-1 div.sk-parallel-item:only-child::after {\n",
       "  width: 0;\n",
       "}\n",
       "\n",
       "/* Serial-specific style estimator block */\n",
       "\n",
       "#sk-container-id-1 div.sk-serial {\n",
       "  display: flex;\n",
       "  flex-direction: column;\n",
       "  align-items: center;\n",
       "  background-color: var(--sklearn-color-background);\n",
       "  padding-right: 1em;\n",
       "  padding-left: 1em;\n",
       "}\n",
       "\n",
       "\n",
       "/* Toggleable style: style used for estimator/Pipeline/ColumnTransformer box that is\n",
       "clickable and can be expanded/collapsed.\n",
       "- Pipeline and ColumnTransformer use this feature and define the default style\n",
       "- Estimators will overwrite some part of the style using the `sk-estimator` class\n",
       "*/\n",
       "\n",
       "/* Pipeline and ColumnTransformer style (default) */\n",
       "\n",
       "#sk-container-id-1 div.sk-toggleable {\n",
       "  /* Default theme specific background. It is overwritten whether we have a\n",
       "  specific estimator or a Pipeline/ColumnTransformer */\n",
       "  background-color: var(--sklearn-color-background);\n",
       "}\n",
       "\n",
       "/* Toggleable label */\n",
       "#sk-container-id-1 label.sk-toggleable__label {\n",
       "  cursor: pointer;\n",
       "  display: block;\n",
       "  width: 100%;\n",
       "  margin-bottom: 0;\n",
       "  padding: 0.5em;\n",
       "  box-sizing: border-box;\n",
       "  text-align: center;\n",
       "}\n",
       "\n",
       "#sk-container-id-1 label.sk-toggleable__label-arrow:before {\n",
       "  /* Arrow on the left of the label */\n",
       "  content: \"▸\";\n",
       "  float: left;\n",
       "  margin-right: 0.25em;\n",
       "  color: var(--sklearn-color-icon);\n",
       "}\n",
       "\n",
       "#sk-container-id-1 label.sk-toggleable__label-arrow:hover:before {\n",
       "  color: var(--sklearn-color-text);\n",
       "}\n",
       "\n",
       "/* Toggleable content - dropdown */\n",
       "\n",
       "#sk-container-id-1 div.sk-toggleable__content {\n",
       "  max-height: 0;\n",
       "  max-width: 0;\n",
       "  overflow: hidden;\n",
       "  text-align: left;\n",
       "  /* unfitted */\n",
       "  background-color: var(--sklearn-color-unfitted-level-0);\n",
       "}\n",
       "\n",
       "#sk-container-id-1 div.sk-toggleable__content.fitted {\n",
       "  /* fitted */\n",
       "  background-color: var(--sklearn-color-fitted-level-0);\n",
       "}\n",
       "\n",
       "#sk-container-id-1 div.sk-toggleable__content pre {\n",
       "  margin: 0.2em;\n",
       "  border-radius: 0.25em;\n",
       "  color: var(--sklearn-color-text);\n",
       "  /* unfitted */\n",
       "  background-color: var(--sklearn-color-unfitted-level-0);\n",
       "}\n",
       "\n",
       "#sk-container-id-1 div.sk-toggleable__content.fitted pre {\n",
       "  /* unfitted */\n",
       "  background-color: var(--sklearn-color-fitted-level-0);\n",
       "}\n",
       "\n",
       "#sk-container-id-1 input.sk-toggleable__control:checked~div.sk-toggleable__content {\n",
       "  /* Expand drop-down */\n",
       "  max-height: 200px;\n",
       "  max-width: 100%;\n",
       "  overflow: auto;\n",
       "}\n",
       "\n",
       "#sk-container-id-1 input.sk-toggleable__control:checked~label.sk-toggleable__label-arrow:before {\n",
       "  content: \"▾\";\n",
       "}\n",
       "\n",
       "/* Pipeline/ColumnTransformer-specific style */\n",
       "\n",
       "#sk-container-id-1 div.sk-label input.sk-toggleable__control:checked~label.sk-toggleable__label {\n",
       "  color: var(--sklearn-color-text);\n",
       "  background-color: var(--sklearn-color-unfitted-level-2);\n",
       "}\n",
       "\n",
       "#sk-container-id-1 div.sk-label.fitted input.sk-toggleable__control:checked~label.sk-toggleable__label {\n",
       "  background-color: var(--sklearn-color-fitted-level-2);\n",
       "}\n",
       "\n",
       "/* Estimator-specific style */\n",
       "\n",
       "/* Colorize estimator box */\n",
       "#sk-container-id-1 div.sk-estimator input.sk-toggleable__control:checked~label.sk-toggleable__label {\n",
       "  /* unfitted */\n",
       "  background-color: var(--sklearn-color-unfitted-level-2);\n",
       "}\n",
       "\n",
       "#sk-container-id-1 div.sk-estimator.fitted input.sk-toggleable__control:checked~label.sk-toggleable__label {\n",
       "  /* fitted */\n",
       "  background-color: var(--sklearn-color-fitted-level-2);\n",
       "}\n",
       "\n",
       "#sk-container-id-1 div.sk-label label.sk-toggleable__label,\n",
       "#sk-container-id-1 div.sk-label label {\n",
       "  /* The background is the default theme color */\n",
       "  color: var(--sklearn-color-text-on-default-background);\n",
       "}\n",
       "\n",
       "/* On hover, darken the color of the background */\n",
       "#sk-container-id-1 div.sk-label:hover label.sk-toggleable__label {\n",
       "  color: var(--sklearn-color-text);\n",
       "  background-color: var(--sklearn-color-unfitted-level-2);\n",
       "}\n",
       "\n",
       "/* Label box, darken color on hover, fitted */\n",
       "#sk-container-id-1 div.sk-label.fitted:hover label.sk-toggleable__label.fitted {\n",
       "  color: var(--sklearn-color-text);\n",
       "  background-color: var(--sklearn-color-fitted-level-2);\n",
       "}\n",
       "\n",
       "/* Estimator label */\n",
       "\n",
       "#sk-container-id-1 div.sk-label label {\n",
       "  font-family: monospace;\n",
       "  font-weight: bold;\n",
       "  display: inline-block;\n",
       "  line-height: 1.2em;\n",
       "}\n",
       "\n",
       "#sk-container-id-1 div.sk-label-container {\n",
       "  text-align: center;\n",
       "}\n",
       "\n",
       "/* Estimator-specific */\n",
       "#sk-container-id-1 div.sk-estimator {\n",
       "  font-family: monospace;\n",
       "  border: 1px dotted var(--sklearn-color-border-box);\n",
       "  border-radius: 0.25em;\n",
       "  box-sizing: border-box;\n",
       "  margin-bottom: 0.5em;\n",
       "  /* unfitted */\n",
       "  background-color: var(--sklearn-color-unfitted-level-0);\n",
       "}\n",
       "\n",
       "#sk-container-id-1 div.sk-estimator.fitted {\n",
       "  /* fitted */\n",
       "  background-color: var(--sklearn-color-fitted-level-0);\n",
       "}\n",
       "\n",
       "/* on hover */\n",
       "#sk-container-id-1 div.sk-estimator:hover {\n",
       "  /* unfitted */\n",
       "  background-color: var(--sklearn-color-unfitted-level-2);\n",
       "}\n",
       "\n",
       "#sk-container-id-1 div.sk-estimator.fitted:hover {\n",
       "  /* fitted */\n",
       "  background-color: var(--sklearn-color-fitted-level-2);\n",
       "}\n",
       "\n",
       "/* Specification for estimator info (e.g. \"i\" and \"?\") */\n",
       "\n",
       "/* Common style for \"i\" and \"?\" */\n",
       "\n",
       ".sk-estimator-doc-link,\n",
       "a:link.sk-estimator-doc-link,\n",
       "a:visited.sk-estimator-doc-link {\n",
       "  float: right;\n",
       "  font-size: smaller;\n",
       "  line-height: 1em;\n",
       "  font-family: monospace;\n",
       "  background-color: var(--sklearn-color-background);\n",
       "  border-radius: 1em;\n",
       "  height: 1em;\n",
       "  width: 1em;\n",
       "  text-decoration: none !important;\n",
       "  margin-left: 1ex;\n",
       "  /* unfitted */\n",
       "  border: var(--sklearn-color-unfitted-level-1) 1pt solid;\n",
       "  color: var(--sklearn-color-unfitted-level-1);\n",
       "}\n",
       "\n",
       ".sk-estimator-doc-link.fitted,\n",
       "a:link.sk-estimator-doc-link.fitted,\n",
       "a:visited.sk-estimator-doc-link.fitted {\n",
       "  /* fitted */\n",
       "  border: var(--sklearn-color-fitted-level-1) 1pt solid;\n",
       "  color: var(--sklearn-color-fitted-level-1);\n",
       "}\n",
       "\n",
       "/* On hover */\n",
       "div.sk-estimator:hover .sk-estimator-doc-link:hover,\n",
       ".sk-estimator-doc-link:hover,\n",
       "div.sk-label-container:hover .sk-estimator-doc-link:hover,\n",
       ".sk-estimator-doc-link:hover {\n",
       "  /* unfitted */\n",
       "  background-color: var(--sklearn-color-unfitted-level-3);\n",
       "  color: var(--sklearn-color-background);\n",
       "  text-decoration: none;\n",
       "}\n",
       "\n",
       "div.sk-estimator.fitted:hover .sk-estimator-doc-link.fitted:hover,\n",
       ".sk-estimator-doc-link.fitted:hover,\n",
       "div.sk-label-container:hover .sk-estimator-doc-link.fitted:hover,\n",
       ".sk-estimator-doc-link.fitted:hover {\n",
       "  /* fitted */\n",
       "  background-color: var(--sklearn-color-fitted-level-3);\n",
       "  color: var(--sklearn-color-background);\n",
       "  text-decoration: none;\n",
       "}\n",
       "\n",
       "/* Span, style for the box shown on hovering the info icon */\n",
       ".sk-estimator-doc-link span {\n",
       "  display: none;\n",
       "  z-index: 9999;\n",
       "  position: relative;\n",
       "  font-weight: normal;\n",
       "  right: .2ex;\n",
       "  padding: .5ex;\n",
       "  margin: .5ex;\n",
       "  width: min-content;\n",
       "  min-width: 20ex;\n",
       "  max-width: 50ex;\n",
       "  color: var(--sklearn-color-text);\n",
       "  box-shadow: 2pt 2pt 4pt #999;\n",
       "  /* unfitted */\n",
       "  background: var(--sklearn-color-unfitted-level-0);\n",
       "  border: .5pt solid var(--sklearn-color-unfitted-level-3);\n",
       "}\n",
       "\n",
       ".sk-estimator-doc-link.fitted span {\n",
       "  /* fitted */\n",
       "  background: var(--sklearn-color-fitted-level-0);\n",
       "  border: var(--sklearn-color-fitted-level-3);\n",
       "}\n",
       "\n",
       ".sk-estimator-doc-link:hover span {\n",
       "  display: block;\n",
       "}\n",
       "\n",
       "/* \"?\"-specific style due to the `<a>` HTML tag */\n",
       "\n",
       "#sk-container-id-1 a.estimator_doc_link {\n",
       "  float: right;\n",
       "  font-size: 1rem;\n",
       "  line-height: 1em;\n",
       "  font-family: monospace;\n",
       "  background-color: var(--sklearn-color-background);\n",
       "  border-radius: 1rem;\n",
       "  height: 1rem;\n",
       "  width: 1rem;\n",
       "  text-decoration: none;\n",
       "  /* unfitted */\n",
       "  color: var(--sklearn-color-unfitted-level-1);\n",
       "  border: var(--sklearn-color-unfitted-level-1) 1pt solid;\n",
       "}\n",
       "\n",
       "#sk-container-id-1 a.estimator_doc_link.fitted {\n",
       "  /* fitted */\n",
       "  border: var(--sklearn-color-fitted-level-1) 1pt solid;\n",
       "  color: var(--sklearn-color-fitted-level-1);\n",
       "}\n",
       "\n",
       "/* On hover */\n",
       "#sk-container-id-1 a.estimator_doc_link:hover {\n",
       "  /* unfitted */\n",
       "  background-color: var(--sklearn-color-unfitted-level-3);\n",
       "  color: var(--sklearn-color-background);\n",
       "  text-decoration: none;\n",
       "}\n",
       "\n",
       "#sk-container-id-1 a.estimator_doc_link.fitted:hover {\n",
       "  /* fitted */\n",
       "  background-color: var(--sklearn-color-fitted-level-3);\n",
       "}\n",
       "</style><div id=\"sk-container-id-1\" class=\"sk-top-container\"><div class=\"sk-text-repr-fallback\"><pre>GradientBoostingRegressor(ccp_alpha=3, learning_rate=1, n_estimators=25)</pre><b>In a Jupyter environment, please rerun this cell to show the HTML representation or trust the notebook. <br />On GitHub, the HTML representation is unable to render, please try loading this page with nbviewer.org.</b></div><div class=\"sk-container\" hidden><div class=\"sk-item\"><div class=\"sk-estimator fitted sk-toggleable\"><input class=\"sk-toggleable__control sk-hidden--visually\" id=\"sk-estimator-id-1\" type=\"checkbox\" checked><label for=\"sk-estimator-id-1\" class=\"sk-toggleable__label fitted sk-toggleable__label-arrow fitted\">&nbsp;&nbsp;GradientBoostingRegressor<a class=\"sk-estimator-doc-link fitted\" rel=\"noreferrer\" target=\"_blank\" href=\"https://scikit-learn.org/1.5/modules/generated/sklearn.ensemble.GradientBoostingRegressor.html\">?<span>Documentation for GradientBoostingRegressor</span></a><span class=\"sk-estimator-doc-link fitted\">i<span>Fitted</span></span></label><div class=\"sk-toggleable__content fitted\"><pre>GradientBoostingRegressor(ccp_alpha=3, learning_rate=1, n_estimators=25)</pre></div> </div></div></div></div>"
      ],
      "text/plain": [
       "GradientBoostingRegressor(ccp_alpha=3, learning_rate=1, n_estimators=25)"
      ]
     },
     "execution_count": 64,
     "metadata": {},
     "output_type": "execute_result"
    }
   ],
   "source": [
    "#Update the hyperparameters for the model\n",
    "hyperparameters = {\n",
    "    'learning_rate': 1,\n",
    "    'max_depth': 3,\n",
    "    'n_estimators': 25,\n",
    "    'ccp_alpha': 3}\n",
    "\n",
    "GBR.set_params(**hyperparameters)\n",
    "\n",
    "#Fit the model to the training data\n",
    "GBR.fit(X_train, y_train)"
   ]
  },
  {
   "cell_type": "code",
   "execution_count": 65,
   "id": "d16e76df-8666-4cda-8600-71599182f85d",
   "metadata": {},
   "outputs": [],
   "source": [
    "#Make predictions with the model\n",
    "train_preds = GBR.predict(X_train)\n",
    "test_preds = GBR.predict(X_test)"
   ]
  },
  {
   "cell_type": "markdown",
   "id": "00c8b894-d0fc-43b6-bda4-234d3456de7e",
   "metadata": {},
   "source": [
    "## Predictions vs. Actuals Visualization"
   ]
  },
  {
   "cell_type": "code",
   "execution_count": 70,
   "id": "ced4860c-7ab4-4ed9-8eef-75739d4285bd",
   "metadata": {},
   "outputs": [
    {
     "data": {
      "image/png": "[encoded data removed]",
      "text/plain": [
       "<Figure size 1000x600 with 1 Axes>"
      ]
     },
     "metadata": {},
     "output_type": "display_data"
    }
   ],
   "source": [
    "plt.figure(figsize=(10,6))\n",
    "plt.scatter(y_test, test_preds, alpha=0.6, color='blue')\n",
    "plt.plot([min(y_test), max(y_test)], [min(y_test), max(y_test)], color='red', linestyle='--', label='Ideal Fit')\n",
    "plt.xlabel('Actual Prices')\n",
    "plt.ylabel('Predicted Prices')\n",
    "plt.title('GBR Predictions vs. Actual Prices')\n",
    "plt.legend()\n",
    "plt.show()"
   ]
  },
  {
   "cell_type": "markdown",
   "id": "c2c400d5-211d-4775-8b40-a512dba9e1f6",
   "metadata": {},
   "source": [
    "A vast majority of the data points fall near the idea fit line (with a few noticeable outliers). It appears that the model is working well."
   ]
  },
  {
   "cell_type": "markdown",
   "id": "6ccda6b3-e6c8-4302-8242-84e6b9b3c0e6",
   "metadata": {},
   "source": [
    "## Final Statistical Analysis of the Model"
   ]
  },
  {
   "cell_type": "markdown",
   "id": "4fcdb56a-3af0-4266-ae3a-87174299b69c",
   "metadata": {},
   "source": [
    "### RMSE, R2, and Accuracy"
   ]
  },
  {
   "cell_type": "code",
   "execution_count": 83,
   "id": "7930c08c-23f5-463c-9c4b-ee561a160277",
   "metadata": {},
   "outputs": [],
   "source": [
    "predictions = GBR.predict(X_test)"
   ]
  },
  {
   "cell_type": "code",
   "execution_count": 86,
   "id": "59d50b23-3107-40c4-88a1-d64fef602cdf",
   "metadata": {},
   "outputs": [
    {
     "name": "stdout",
     "output_type": "stream",
     "text": [
      "RMSE: 69790.9561\n",
      "R2 Score: 0.1056\n",
      "Model Accuracy (within 10.0% of actual prices: 25.12%\n",
      "Model Accuracy (within 15.0% of actual prices: 36.51%\n"
     ]
    }
   ],
   "source": [
    "#RMSE\n",
    "rmse = root_mean_squared_error(y_test, predictions)\n",
    "print(f\"RMSE: {rmse:.4f}\")\n",
    "\n",
    "#R2 score\n",
    "r2 = r2_score(y_test, predictions)\n",
    "print(f\"R2 Score: {r2:.4f}\")\n",
    "\n",
    "#Accuracy\n",
    "threshold = .1 #10% tolerance\n",
    "accuracy = ((abs(y_test - predictions) / y_test) <= threshold).mean() * 100\n",
    "print(f\"Model Accuracy (within {threshold * 100}% of actual prices: {accuracy:.2f}%\")\n",
    "\n",
    "threshold2 = .15 #15% tolerance\n",
    "accuracy2 = ((abs(y_test - predictions) / y_test) <= threshold2).mean() * 100\n",
    "print(f\"Model Accuracy (within {threshold2 * 100}% of actual prices: {accuracy2:.2f}%\")"
   ]
  },
  {
   "cell_type": "markdown",
   "id": "5beda8c0-5f8f-484b-bf35-2a42f06b8c23",
   "metadata": {},
   "source": [
    "The model accurately predicted the price of cat within 10% of its actual price 25% of the time and within 15% of the price 36% of the time.\n",
    "\n",
    "Kelly Blue Book and Edmunds aim at 10-15% accuracy, so this model performs well generally."
   ]
  },
  {
   "cell_type": "markdown",
   "id": "4d0d8d7b-8e83-42bc-9b83-05ed1674a03d",
   "metadata": {},
   "source": [
    "## Export the model"
   ]
  },
  {
   "cell_type": "code",
   "execution_count": 73,
   "id": "7ecbdd5d-3f13-415b-ace9-5fb2ee0f060e",
   "metadata": {},
   "outputs": [],
   "source": [
    "with open('prediction_model', 'wb') as f:\n",
    "    pickle.dump(GBR, f)"
   ]
  }
 ],
 "metadata": {
  "kernelspec": {
   "display_name": "Python 3 (ipykernel)",
   "language": "python",
   "name": "python3"
  },
  "language_info": {
   "codemirror_mode": {
    "name": "ipython",
    "version": 3
   },
   "file_extension": ".py",
   "mimetype": "text/x-python",
   "name": "python",
   "nbconvert_exporter": "python",
   "pygments_lexer": "ipython3",
   "version": "3.12.7"
  }
 },
 "nbformat": 4,
 "nbformat_minor": 5
}
